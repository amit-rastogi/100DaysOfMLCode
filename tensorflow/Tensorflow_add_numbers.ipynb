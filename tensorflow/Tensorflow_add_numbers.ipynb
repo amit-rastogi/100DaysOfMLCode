{
 "cells": [
  {
   "cell_type": "code",
   "execution_count": 21,
   "metadata": {},
   "outputs": [
    {
     "name": "stdout",
     "output_type": "stream",
     "text": [
      "17\n"
     ]
    }
   ],
   "source": [
    "import tensorflow as tf\n",
    "#Create a graph\n",
    "graph = tf.Graph()\n",
    "#Set it as default graph and add the following 3 operations-\n",
    "with graph.as_default():\n",
    "    x = tf.constant(8)\n",
    "    y = tf.constant(5)\n",
    "    z = tf.constant(4)\n",
    "    total = tf.add(tf.add(x,y), z)\n",
    "    #Create a session to run the default graph\n",
    "    with tf.Session() as sess:\n",
    "       print(total.eval())"
   ]
  },
  {
   "cell_type": "code",
   "execution_count": null,
   "metadata": {},
   "outputs": [],
   "source": []
  }
 ],
 "metadata": {
  "kernelspec": {
   "display_name": "Python 3",
   "language": "python",
   "name": "python3"
  },
  "language_info": {
   "codemirror_mode": {
    "name": "ipython",
    "version": 3
   },
   "file_extension": ".py",
   "mimetype": "text/x-python",
   "name": "python",
   "nbconvert_exporter": "python",
   "pygments_lexer": "ipython3",
   "version": "3.6.6"
  }
 },
 "nbformat": 4,
 "nbformat_minor": 2
}
