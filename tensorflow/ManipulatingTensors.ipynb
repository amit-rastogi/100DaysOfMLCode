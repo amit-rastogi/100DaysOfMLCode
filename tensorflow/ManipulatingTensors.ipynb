{
 "cells": [
  {
   "cell_type": "markdown",
   "metadata": {},
   "source": [
    "Add two tensors of different shapes"
   ]
  },
  {
   "cell_type": "code",
   "execution_count": 26,
   "metadata": {},
   "outputs": [
    {
     "name": "stdout",
     "output_type": "stream",
     "text": [
      "adding op1 and op2 of shapes: () (2,)\n",
      "shape of result: [2]\n",
      "result: [5 6]\n"
     ]
    }
   ],
   "source": [
    "import tensorflow as tf\n",
    "#add two tensors\n",
    "op1 = tf.constant(2, dtype=tf.int32)\n",
    "op2 = tf.constant([3,4], dtype=tf.int32)\n",
    "print(\"adding op1 and op2 of shapes:\", op1.get_shape(), op2.get_shape())\n",
    "add_op1_op2 = tf.add(op1,op2)\n",
    "shape_of_add_op1_op2 = tf.shape(add_op1_op2)\n",
    "sess = tf.Session()\n",
    "with sess.as_default():\n",
    "  print(\"shape of result:\", shape_of_add_op1_op2.eval())\n",
    "  print(\"result:\", add_op1_op2.eval())"
   ]
  },
  {
   "cell_type": "markdown",
   "metadata": {},
   "source": [
    " Matrix multplication - multiply a 2x3 and 3x2 matrix"
   ]
  },
  {
   "cell_type": "code",
   "execution_count": 21,
   "metadata": {},
   "outputs": [
    {
     "name": "stdout",
     "output_type": "stream",
     "text": [
      "[[30 36]\n",
      " [66 81]]\n"
     ]
    }
   ],
   "source": [
    "x = tf.constant([[1,2,3],[4,5,6]], dtype=tf.int32)\n",
    "y = tf.constant([[1,2],[4,5],[7,8]], dtype=tf.int32)\n",
    "\n",
    "mat_mul_x_y = tf.matmul(x,y)\n",
    "print(mat_mul_x_y.eval(session=sess))"
   ]
  },
  {
   "cell_type": "markdown",
   "metadata": {},
   "source": [
    "Reshape tensor"
   ]
  },
  {
   "cell_type": "code",
   "execution_count": 23,
   "metadata": {},
   "outputs": [
    {
     "name": "stdout",
     "output_type": "stream",
     "text": [
      "[[1 2]\n",
      " [3 4]\n",
      " [5 6]]\n"
     ]
    }
   ],
   "source": [
    "#reshape 2x3 tensor to 3*2\n",
    "threeBytwo = tf.constant([[1,2,3],[4,5,6]])\n",
    "twoByThree = tf.reshape(threeBytwo, [3,2])\n",
    "\n",
    "print(twoByThree.eval(session=sess))"
   ]
  },
  {
   "cell_type": "markdown",
   "metadata": {},
   "source": [
    "Exercise: Reshape two tensors in order to multiply them.\n",
    "The following two vectors are incompatible for matrix multiplication:\n",
    "\n",
    "a = tf.constant([5, 3, 2, 7, 1, 4])\n",
    "b = tf.constant([4, 6, 3])\n",
    "Reshape these vectors into compatible operands for matrix multiplication. Then, invoke a matrix multiplication operation on the reshaped tensors."
   ]
  },
  {
   "cell_type": "code",
   "execution_count": 30,
   "metadata": {},
   "outputs": [
    {
     "name": "stdout",
     "output_type": "stream",
     "text": [
      "shape of a after reshape: [2 3]\n",
      "shape of b after reshape: [3 1]\n",
      "shape of result: [2 1]\n",
      "result matrix: [[44]\n",
      " [46]]\n"
     ]
    }
   ],
   "source": [
    "a = tf.constant([5, 3, 2, 7, 1, 4])\n",
    "b = tf.constant([4, 6, 3])\n",
    "\n",
    "a_reshaped = tf.reshape(a, [2,3])\n",
    "b_reshaped = tf.reshape(b, [3,1])\n",
    "shape_of_a_reshaped = tf.shape(a_reshaped)\n",
    "shape_of_b_reshaped = tf.shape(b_reshaped)\n",
    "\n",
    "mult_a_b = tf.matmul(a_reshaped, b_reshaped)\n",
    "shape_of_mult_a_b = tf.shape(mult_a_b)\n",
    "\n",
    "print(\"shape of a after reshape:\", shape_of_a_reshaped.eval(session=sess))\n",
    "print(\"shape of b after reshape:\", shape_of_b_reshaped.eval(session=sess))\n",
    "print(\"shape of result:\", shape_of_mult_a_b.eval(session=sess))\n",
    "print(\"result matrix:\", mult_a_b.eval(session=sess))"
   ]
  },
  {
   "cell_type": "code",
   "execution_count": null,
   "metadata": {},
   "outputs": [],
   "source": []
  }
 ],
 "metadata": {
  "kernelspec": {
   "display_name": "Python 3",
   "language": "python",
   "name": "python3"
  },
  "language_info": {
   "codemirror_mode": {
    "name": "ipython",
    "version": 3
   },
   "file_extension": ".py",
   "mimetype": "text/x-python",
   "name": "python",
   "nbconvert_exporter": "python",
   "pygments_lexer": "ipython3",
   "version": "3.6.6"
  }
 },
 "nbformat": 4,
 "nbformat_minor": 2
}
