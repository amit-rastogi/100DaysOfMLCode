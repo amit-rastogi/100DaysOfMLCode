{
 "cells": [
  {
   "cell_type": "code",
   "execution_count": 6,
   "metadata": {},
   "outputs": [],
   "source": [
    "import numpy as np"
   ]
  },
  {
   "cell_type": "code",
   "execution_count": 18,
   "metadata": {},
   "outputs": [],
   "source": [
    "train_x=[]\n",
    "train_y=[]\n",
    "\n",
    "#data_2d.csv contains data as x1, x2, y\n",
    "for line in open('data_2d.csv'):\n",
    "    x1, x2, y = line.split(',')\n",
    "    #add 1 to the first column to take the constant term of the linear equation inside the train_X\n",
    "    train_x.append([1, float(x1), float(x2)])\n",
    "    train_y.append(float(y))\n",
    "\n",
    "#convert to numpy arrays\n",
    "train_x = np.array(train_x)\n",
    "train_y = np.array(train_y)\n",
    "\n",
    "#calculate the weight matrix\n",
    "#w = np.dot(np.linalg.inv(np.dot(train_x.T, train_x)), np.dot(train_x.T, train_y))\n",
    "#alternatively w can be calculated using np.linalg.solve as below\n",
    "w = np.linalg.solve(np.dot(train_x.T, train_x),np.dot(train_x.T, train_y)) "
   ]
  },
  {
   "cell_type": "code",
   "execution_count": 19,
   "metadata": {},
   "outputs": [],
   "source": [
    "yhat = np.dot(train_x, w)"
   ]
  },
  {
   "cell_type": "code",
   "execution_count": 20,
   "metadata": {},
   "outputs": [
    {
     "name": "stdout",
     "output_type": "stream",
     "text": [
      "0.9980040612475777\n"
     ]
    }
   ],
   "source": [
    "#calculate accuracy using R-square\n",
    "num = train_y - yhat\n",
    "den = train_y - train_y.mean()\n",
    "rsquared = 1 - num.dot(num)/den.dot(den)\n",
    "print(rsquared)"
   ]
  },
  {
   "cell_type": "code",
   "execution_count": null,
   "metadata": {},
   "outputs": [],
   "source": []
  }
 ],
 "metadata": {
  "kernelspec": {
   "display_name": "Python 3",
   "language": "python",
   "name": "python3"
  },
  "language_info": {
   "codemirror_mode": {
    "name": "ipython",
    "version": 3
   },
   "file_extension": ".py",
   "mimetype": "text/x-python",
   "name": "python",
   "nbconvert_exporter": "python",
   "pygments_lexer": "ipython3",
   "version": "3.6.5"
  }
 },
 "nbformat": 4,
 "nbformat_minor": 2
}
